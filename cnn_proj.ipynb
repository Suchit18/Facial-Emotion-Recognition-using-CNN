{
  "nbformat": 4,
  "nbformat_minor": 0,
  "metadata": {
    "colab": {
      "provenance": []
    },
    "kernelspec": {
      "name": "python3",
      "display_name": "Python 3"
    },
    "language_info": {
      "name": "python"
    }
  },
  "cells": [
    {
      "cell_type": "code",
      "source": [
        "import numpy as np\n",
        "import pandas as pd\n",
        "import tensorflow as tf\n",
        "from tensorflow.keras.models import Sequential\n",
        "from tensorflow.keras.layers import Dense, Dropout, Flatten, Conv2D, MaxPooling2D\n",
        "from tensorflow.keras.optimizers import Adam"
      ],
      "metadata": {
        "id": "hnQsZ84FE1CI"
      },
      "execution_count": null,
      "outputs": []
    },
    {
      "cell_type": "code",
      "source": [
        "data = pd.read_csv('/content/drive/MyDrive/cnn_proj_data/dataset/archive_data/ckextended.csv')"
      ],
      "metadata": {
        "id": "fw87w6P183AK"
      },
      "execution_count": null,
      "outputs": []
    },
    {
      "cell_type": "code",
      "source": [
        "print(data.head())\n",
        "print(data.dtypes)"
      ],
      "metadata": {
        "colab": {
          "base_uri": "https://localhost:8080/"
        },
        "id": "Cg_shm6pDtG3",
        "outputId": "9f4c18cc-6bc8-4ffb-9f84-7c1ba1b128f9"
      },
      "execution_count": null,
      "outputs": [
        {
          "output_type": "stream",
          "name": "stdout",
          "text": [
            "   emotion                                             pixels     Usage\n",
            "0        6  36 39 35 25 19 11 8 7 3 13 15 9 21 57 75 90 10...  Training\n",
            "1        6  88 74 19 4 5 5 3 12 8 21 15 21 15 18 24 29 32 ...  Training\n",
            "2        6  9 2 4 7 1 1 1 0 7 29 49 76 115 141 156 169 177...  Training\n",
            "3        6  104 106 108 104 95 50 60 61 58 83 126 133 139 ...  Training\n",
            "4        6  68 72 67 67 6 2 1 1 1 1 1 14 24 24 38 65 79 94...  Training\n",
            "emotion     int64\n",
            "pixels     object\n",
            "Usage      object\n",
            "dtype: object\n"
          ]
        }
      ]
    },
    {
      "cell_type": "code",
      "source": [
        "def process_pixels(pixels):\n",
        "    if isinstance(pixels, str):\n",
        "        pixels = np.array(pixels.split(), dtype='float32')\n",
        "    return pixels / 255.0\n",
        "\n",
        "data['pixels'] = data['pixels'].apply(process_pixels)\n",
        "\n",
        "# Extract features and labels\n",
        "X = np.stack(data['pixels'].values)\n",
        "y = data['emotion'].values\n",
        "\n",
        "# Check unique values in 'emotion' column\n",
        "print(f\"Unique emotion labels: {np.unique(y)}\")\n",
        "\n",
        "# Reshape the data\n",
        "X = X.reshape(X.shape[0], 48, 48, 1)  #images are 48x48 pixels\n",
        "\n",
        "# One-hot encode labels\n",
        "from keras.utils import to_categorical\n",
        "num_classes = 8\n",
        "y = to_categorical(y, num_classes=num_classes)\n",
        "\n",
        "# Split the data into training and testing sets\n",
        "train_indices = data['Usage'] == 'Training'\n",
        "test_indices = data['Usage'] == 'PublicTest'\n",
        "\n",
        "X_train, X_test = X[train_indices], X[test_indices]\n",
        "y_train, y_test = y[train_indices], y[test_indices]\n",
        "\n",
        "\n",
        "print(f\"Training set size: {X_train.shape[0]}\")\n",
        "print(f\"Test set size: {X_test.shape[0]}\")"
      ],
      "metadata": {
        "colab": {
          "base_uri": "https://localhost:8080/"
        },
        "id": "6kNIl1znEVDk",
        "outputId": "081b8c04-8040-4db2-c362-66b01c27d16f"
      },
      "execution_count": null,
      "outputs": [
        {
          "output_type": "stream",
          "name": "stdout",
          "text": [
            "Unique emotion labels: [0 1 2 3 4 5 6 7]\n",
            "Training set size: 734\n",
            "Test set size: 91\n"
          ]
        }
      ]
    },
    {
      "cell_type": "code",
      "source": [
        "model = Sequential()\n",
        "\n",
        "#1st convolutional layer\n",
        "model.add(Conv2D(32, kernel_size=(3, 3), activation='relu', input_shape=(48, 48, 1)))\n",
        "model.add(MaxPooling2D(pool_size=(2, 2)))\n",
        "model.add(Dropout(0.25))\n",
        "\n",
        "#2nd convolutional layer\n",
        "model.add(Conv2D(64, kernel_size=(3, 3), activation='relu'))\n",
        "model.add(MaxPooling2D(pool_size=(2, 2)))\n",
        "model.add(Dropout(0.25))\n",
        "\n",
        "#3rd convolutional layer\n",
        "model.add(Conv2D(128, kernel_size=(3, 3), activation='relu'))\n",
        "model.add(MaxPooling2D(pool_size=(2, 2)))\n",
        "model.add(Dropout(0.25))\n",
        "\n",
        "\n",
        "model.add(Flatten())\n",
        "\n",
        "# Fully connected layer\n",
        "model.add(Dense(128, activation='relu'))\n",
        "model.add(Dropout(0.5))\n",
        "\n",
        "# Output\n",
        "model.add(Dense(num_classes, activation='softmax'))\n",
        "\n",
        "model.summary()"
      ],
      "metadata": {
        "id": "V2_3Gutj_eSq",
        "colab": {
          "base_uri": "https://localhost:8080/"
        },
        "outputId": "2bd3135a-d518-48a5-b3bf-1562fa138076"
      },
      "execution_count": null,
      "outputs": [
        {
          "output_type": "stream",
          "name": "stdout",
          "text": [
            "Model: \"sequential\"\n",
            "_________________________________________________________________\n",
            " Layer (type)                Output Shape              Param #   \n",
            "=================================================================\n",
            " conv2d (Conv2D)             (None, 46, 46, 32)        320       \n",
            "                                                                 \n",
            " max_pooling2d (MaxPooling2  (None, 23, 23, 32)        0         \n",
            " D)                                                              \n",
            "                                                                 \n",
            " dropout (Dropout)           (None, 23, 23, 32)        0         \n",
            "                                                                 \n",
            " conv2d_1 (Conv2D)           (None, 21, 21, 64)        18496     \n",
            "                                                                 \n",
            " max_pooling2d_1 (MaxPoolin  (None, 10, 10, 64)        0         \n",
            " g2D)                                                            \n",
            "                                                                 \n",
            " dropout_1 (Dropout)         (None, 10, 10, 64)        0         \n",
            "                                                                 \n",
            " conv2d_2 (Conv2D)           (None, 8, 8, 128)         73856     \n",
            "                                                                 \n",
            " max_pooling2d_2 (MaxPoolin  (None, 4, 4, 128)         0         \n",
            " g2D)                                                            \n",
            "                                                                 \n",
            " dropout_2 (Dropout)         (None, 4, 4, 128)         0         \n",
            "                                                                 \n",
            " flatten (Flatten)           (None, 2048)              0         \n",
            "                                                                 \n",
            " dense (Dense)               (None, 128)               262272    \n",
            "                                                                 \n",
            " dropout_3 (Dropout)         (None, 128)               0         \n",
            "                                                                 \n",
            " dense_1 (Dense)             (None, 8)                 1032      \n",
            "                                                                 \n",
            "=================================================================\n",
            "Total params: 355976 (1.36 MB)\n",
            "Trainable params: 355976 (1.36 MB)\n",
            "Non-trainable params: 0 (0.00 Byte)\n",
            "_________________________________________________________________\n"
          ]
        }
      ]
    },
    {
      "cell_type": "code",
      "source": [
        "model.compile(optimizer='adam', loss='categorical_crossentropy', metrics=['accuracy'])\n"
      ],
      "metadata": {
        "id": "rn6jcNPh_ePO"
      },
      "execution_count": null,
      "outputs": []
    },
    {
      "cell_type": "code",
      "source": [
        "batch_size = 32\n",
        "epochs = 50\n",
        "\n",
        "history = model.fit(X_train, y_train, batch_size=batch_size, epochs=epochs, validation_data=(X_test, y_test), verbose=1)\n"
      ],
      "metadata": {
        "id": "qywWjWlT_eNf",
        "colab": {
          "base_uri": "https://localhost:8080/"
        },
        "outputId": "665663e3-0292-47b2-c967-36d34b9f7750"
      },
      "execution_count": null,
      "outputs": [
        {
          "output_type": "stream",
          "name": "stdout",
          "text": [
            "Epoch 1/50\n",
            "23/23 [==============================] - 3s 115ms/step - loss: 1.3242 - accuracy: 0.6458 - val_loss: 1.3084 - val_accuracy: 0.6484\n",
            "Epoch 2/50\n",
            "23/23 [==============================] - 2s 109ms/step - loss: 1.3221 - accuracy: 0.6458 - val_loss: 1.2968 - val_accuracy: 0.6484\n",
            "Epoch 3/50\n",
            "23/23 [==============================] - 4s 178ms/step - loss: 1.3363 - accuracy: 0.6458 - val_loss: 1.2911 - val_accuracy: 0.6484\n",
            "Epoch 4/50\n",
            "23/23 [==============================] - 3s 132ms/step - loss: 1.3112 - accuracy: 0.6458 - val_loss: 1.2967 - val_accuracy: 0.6484\n",
            "Epoch 5/50\n",
            "23/23 [==============================] - 3s 110ms/step - loss: 1.3338 - accuracy: 0.6458 - val_loss: 1.2985 - val_accuracy: 0.6484\n",
            "Epoch 6/50\n",
            "23/23 [==============================] - 3s 109ms/step - loss: 1.3304 - accuracy: 0.6458 - val_loss: 1.2996 - val_accuracy: 0.6484\n",
            "Epoch 7/50\n",
            "23/23 [==============================] - 2s 108ms/step - loss: 1.3274 - accuracy: 0.6458 - val_loss: 1.2954 - val_accuracy: 0.6484\n",
            "Epoch 8/50\n",
            "23/23 [==============================] - 3s 145ms/step - loss: 1.3125 - accuracy: 0.6458 - val_loss: 1.2937 - val_accuracy: 0.6484\n",
            "Epoch 9/50\n",
            "23/23 [==============================] - 4s 156ms/step - loss: 1.3319 - accuracy: 0.6458 - val_loss: 1.2959 - val_accuracy: 0.6484\n",
            "Epoch 10/50\n",
            "23/23 [==============================] - 2s 109ms/step - loss: 1.3003 - accuracy: 0.6458 - val_loss: 1.2904 - val_accuracy: 0.6484\n",
            "Epoch 11/50\n",
            "23/23 [==============================] - 2s 106ms/step - loss: 1.3190 - accuracy: 0.6458 - val_loss: 1.2923 - val_accuracy: 0.6484\n",
            "Epoch 12/50\n",
            "23/23 [==============================] - 2s 109ms/step - loss: 1.3258 - accuracy: 0.6458 - val_loss: 1.2914 - val_accuracy: 0.6484\n",
            "Epoch 13/50\n",
            "23/23 [==============================] - 3s 116ms/step - loss: 1.3175 - accuracy: 0.6458 - val_loss: 1.3147 - val_accuracy: 0.6484\n",
            "Epoch 14/50\n",
            "23/23 [==============================] - 4s 173ms/step - loss: 1.3256 - accuracy: 0.6458 - val_loss: 1.2916 - val_accuracy: 0.6484\n",
            "Epoch 15/50\n",
            "23/23 [==============================] - 4s 176ms/step - loss: 1.3123 - accuracy: 0.6458 - val_loss: 1.2910 - val_accuracy: 0.6484\n",
            "Epoch 16/50\n",
            "23/23 [==============================] - 3s 112ms/step - loss: 1.3142 - accuracy: 0.6458 - val_loss: 1.2908 - val_accuracy: 0.6484\n",
            "Epoch 17/50\n",
            "23/23 [==============================] - 2s 106ms/step - loss: 1.3088 - accuracy: 0.6458 - val_loss: 1.2942 - val_accuracy: 0.6484\n",
            "Epoch 18/50\n",
            "23/23 [==============================] - 3s 135ms/step - loss: 1.3253 - accuracy: 0.6458 - val_loss: 1.2931 - val_accuracy: 0.6484\n",
            "Epoch 19/50\n",
            "23/23 [==============================] - 4s 169ms/step - loss: 1.3159 - accuracy: 0.6458 - val_loss: 1.2916 - val_accuracy: 0.6484\n",
            "Epoch 20/50\n",
            "23/23 [==============================] - 2s 108ms/step - loss: 1.3145 - accuracy: 0.6458 - val_loss: 1.2951 - val_accuracy: 0.6484\n",
            "Epoch 21/50\n",
            "23/23 [==============================] - 2s 106ms/step - loss: 1.3140 - accuracy: 0.6458 - val_loss: 1.2934 - val_accuracy: 0.6484\n",
            "Epoch 22/50\n",
            "23/23 [==============================] - 3s 119ms/step - loss: 1.3111 - accuracy: 0.6458 - val_loss: 1.2914 - val_accuracy: 0.6484\n",
            "Epoch 23/50\n",
            "23/23 [==============================] - 3s 121ms/step - loss: 1.3221 - accuracy: 0.6458 - val_loss: 1.2906 - val_accuracy: 0.6484\n",
            "Epoch 24/50\n",
            "23/23 [==============================] - 4s 175ms/step - loss: 1.3059 - accuracy: 0.6458 - val_loss: 1.2924 - val_accuracy: 0.6484\n",
            "Epoch 25/50\n",
            "23/23 [==============================] - 2s 107ms/step - loss: 1.3124 - accuracy: 0.6458 - val_loss: 1.2930 - val_accuracy: 0.6484\n",
            "Epoch 26/50\n",
            "23/23 [==============================] - 2s 108ms/step - loss: 1.3077 - accuracy: 0.6458 - val_loss: 1.2939 - val_accuracy: 0.6484\n",
            "Epoch 27/50\n",
            "23/23 [==============================] - 2s 104ms/step - loss: 1.3055 - accuracy: 0.6458 - val_loss: 1.3081 - val_accuracy: 0.6484\n",
            "Epoch 28/50\n",
            "23/23 [==============================] - 2s 104ms/step - loss: 1.3325 - accuracy: 0.6458 - val_loss: 1.2947 - val_accuracy: 0.6484\n",
            "Epoch 29/50\n",
            "23/23 [==============================] - 4s 170ms/step - loss: 1.3170 - accuracy: 0.6458 - val_loss: 1.3068 - val_accuracy: 0.6484\n",
            "Epoch 30/50\n",
            "23/23 [==============================] - 3s 128ms/step - loss: 1.3130 - accuracy: 0.6458 - val_loss: 1.2906 - val_accuracy: 0.6484\n",
            "Epoch 31/50\n",
            "23/23 [==============================] - 2s 108ms/step - loss: 1.3225 - accuracy: 0.6458 - val_loss: 1.2908 - val_accuracy: 0.6484\n",
            "Epoch 32/50\n",
            "23/23 [==============================] - 2s 106ms/step - loss: 1.3049 - accuracy: 0.6458 - val_loss: 1.2912 - val_accuracy: 0.6484\n",
            "Epoch 33/50\n",
            "23/23 [==============================] - 2s 108ms/step - loss: 1.3154 - accuracy: 0.6458 - val_loss: 1.2910 - val_accuracy: 0.6484\n",
            "Epoch 34/50\n",
            "23/23 [==============================] - 3s 142ms/step - loss: 1.3095 - accuracy: 0.6458 - val_loss: 1.2902 - val_accuracy: 0.6484\n",
            "Epoch 35/50\n",
            "23/23 [==============================] - 4s 161ms/step - loss: 1.3171 - accuracy: 0.6458 - val_loss: 1.2919 - val_accuracy: 0.6484\n",
            "Epoch 36/50\n",
            "23/23 [==============================] - 2s 104ms/step - loss: 1.3061 - accuracy: 0.6458 - val_loss: 1.2945 - val_accuracy: 0.6484\n",
            "Epoch 37/50\n",
            "23/23 [==============================] - 2s 105ms/step - loss: 1.3152 - accuracy: 0.6458 - val_loss: 1.2935 - val_accuracy: 0.6484\n",
            "Epoch 38/50\n",
            "23/23 [==============================] - 2s 103ms/step - loss: 1.3130 - accuracy: 0.6458 - val_loss: 1.2907 - val_accuracy: 0.6484\n",
            "Epoch 39/50\n",
            "23/23 [==============================] - 3s 110ms/step - loss: 1.3157 - accuracy: 0.6458 - val_loss: 1.2929 - val_accuracy: 0.6484\n",
            "Epoch 40/50\n",
            "23/23 [==============================] - 4s 175ms/step - loss: 1.3267 - accuracy: 0.6458 - val_loss: 1.2912 - val_accuracy: 0.6484\n",
            "Epoch 41/50\n",
            "23/23 [==============================] - 3s 118ms/step - loss: 1.3175 - accuracy: 0.6458 - val_loss: 1.2906 - val_accuracy: 0.6484\n",
            "Epoch 42/50\n",
            "23/23 [==============================] - 2s 104ms/step - loss: 1.3079 - accuracy: 0.6458 - val_loss: 1.3005 - val_accuracy: 0.6484\n",
            "Epoch 43/50\n",
            "23/23 [==============================] - 2s 106ms/step - loss: 1.3265 - accuracy: 0.6458 - val_loss: 1.2912 - val_accuracy: 0.6484\n",
            "Epoch 44/50\n",
            "23/23 [==============================] - 2s 107ms/step - loss: 1.3059 - accuracy: 0.6458 - val_loss: 1.2899 - val_accuracy: 0.6484\n",
            "Epoch 45/50\n",
            "23/23 [==============================] - 4s 156ms/step - loss: 1.3276 - accuracy: 0.6458 - val_loss: 1.2901 - val_accuracy: 0.6484\n",
            "Epoch 46/50\n",
            "23/23 [==============================] - 3s 149ms/step - loss: 1.3083 - accuracy: 0.6458 - val_loss: 1.2902 - val_accuracy: 0.6484\n",
            "Epoch 47/50\n",
            "23/23 [==============================] - 2s 104ms/step - loss: 1.3147 - accuracy: 0.6458 - val_loss: 1.2938 - val_accuracy: 0.6484\n",
            "Epoch 48/50\n",
            "23/23 [==============================] - 2s 108ms/step - loss: 1.3209 - accuracy: 0.6458 - val_loss: 1.2915 - val_accuracy: 0.6484\n",
            "Epoch 49/50\n",
            "23/23 [==============================] - 2s 104ms/step - loss: 1.3193 - accuracy: 0.6458 - val_loss: 1.2906 - val_accuracy: 0.6484\n",
            "Epoch 50/50\n",
            "23/23 [==============================] - 3s 126ms/step - loss: 1.3122 - accuracy: 0.6458 - val_loss: 1.2919 - val_accuracy: 0.6484\n"
          ]
        }
      ]
    },
    {
      "cell_type": "code",
      "source": [
        "score = model.evaluate(X_test, y_test, verbose=0)\n",
        "print(f'Test loss: {score[0]}')\n",
        "print(f'Test accuracy: {score[1]}')\n"
      ],
      "metadata": {
        "id": "MkkjL6tc_eKg",
        "colab": {
          "base_uri": "https://localhost:8080/"
        },
        "outputId": "3272f076-19b6-4ae3-da95-c3d2b6b32840"
      },
      "execution_count": null,
      "outputs": [
        {
          "output_type": "stream",
          "name": "stdout",
          "text": [
            "Test loss: 1.2919360399246216\n",
            "Test accuracy: 0.6483516693115234\n"
          ]
        }
      ]
    },
    {
      "cell_type": "code",
      "source": [],
      "metadata": {
        "id": "nBLzsqNo_eI9"
      },
      "execution_count": null,
      "outputs": []
    },
    {
      "cell_type": "code",
      "source": [],
      "metadata": {
        "id": "CPLsyRBY_eGA"
      },
      "execution_count": null,
      "outputs": []
    }
  ]
}