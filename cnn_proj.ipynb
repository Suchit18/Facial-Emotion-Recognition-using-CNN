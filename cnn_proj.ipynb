{
  "nbformat": 4,
  "nbformat_minor": 0,
  "metadata": {
    "colab": {
      "provenance": []
    },
    "kernelspec": {
      "name": "python3",
      "display_name": "Python 3"
    },
    "language_info": {
      "name": "python"
    }
  },
  "cells": [
    {
      "cell_type": "code",
      "source": [
        "import numpy as np\n",
        "import pandas as pd\n",
        "import tensorflow as tf\n",
        "from tensorflow.keras.models import Sequential\n",
        "from tensorflow.keras.layers import Dense, Dropout, Flatten, Conv2D, MaxPooling2D\n",
        "from tensorflow.keras.optimizers import Adam\n",
        "from tensorflow.keras.regularizers import l2"
      ],
      "metadata": {
        "id": "hnQsZ84FE1CI"
      },
      "execution_count": 10,
      "outputs": []
    },
    {
      "cell_type": "code",
      "source": [
        "data = pd.read_csv('/content/drive/MyDrive/cnn_proj_data/dataset/archive_data/ckextended.csv')"
      ],
      "metadata": {
        "id": "fw87w6P183AK"
      },
      "execution_count": 2,
      "outputs": []
    },
    {
      "cell_type": "code",
      "source": [
        "print(data.head())\n",
        "print(data.dtypes)"
      ],
      "metadata": {
        "colab": {
          "base_uri": "https://localhost:8080/"
        },
        "id": "Cg_shm6pDtG3",
        "outputId": "d4aa3688-a896-4ac1-9979-bfdc010e5c5b"
      },
      "execution_count": 3,
      "outputs": [
        {
          "output_type": "stream",
          "name": "stdout",
          "text": [
            "   emotion                                             pixels     Usage\n",
            "0        6  36 39 35 25 19 11 8 7 3 13 15 9 21 57 75 90 10...  Training\n",
            "1        6  88 74 19 4 5 5 3 12 8 21 15 21 15 18 24 29 32 ...  Training\n",
            "2        6  9 2 4 7 1 1 1 0 7 29 49 76 115 141 156 169 177...  Training\n",
            "3        6  104 106 108 104 95 50 60 61 58 83 126 133 139 ...  Training\n",
            "4        6  68 72 67 67 6 2 1 1 1 1 1 14 24 24 38 65 79 94...  Training\n",
            "emotion     int64\n",
            "pixels     object\n",
            "Usage      object\n",
            "dtype: object\n"
          ]
        }
      ]
    },
    {
      "cell_type": "code",
      "source": [
        "def process_pixels(pixels):\n",
        "    if isinstance(pixels, str):\n",
        "        pixels = np.array(pixels.split(), dtype='float32')\n",
        "    return pixels / 255.0\n",
        "\n",
        "data['pixels'] = data['pixels'].apply(process_pixels)\n",
        "\n",
        "# Extract features and labels\n",
        "X = np.stack(data['pixels'].values)\n",
        "y = data['emotion'].values\n",
        "\n",
        "# Check unique values in 'emotion' column\n",
        "print(f\"Unique emotion labels: {np.unique(y)}\")\n",
        "\n",
        "# Reshape the data\n",
        "X = X.reshape(X.shape[0], 48, 48, 1)  #images are 48x48 pixels\n",
        "\n",
        "# One-hot encode labels\n",
        "from keras.utils import to_categorical\n",
        "num_classes = 8\n",
        "y = to_categorical(y, num_classes=num_classes)\n",
        "\n",
        "# Split the data into training and testing sets\n",
        "train_indices = data['Usage'] == 'Training'\n",
        "test_indices = data['Usage'] == 'PublicTest'\n",
        "\n",
        "X_train, X_test = X[train_indices], X[test_indices]\n",
        "y_train, y_test = y[train_indices], y[test_indices]\n",
        "\n",
        "\n",
        "print(f\"Training set size: {X_train.shape[0]}\")\n",
        "print(f\"Test set size: {X_test.shape[0]}\")"
      ],
      "metadata": {
        "colab": {
          "base_uri": "https://localhost:8080/"
        },
        "id": "6kNIl1znEVDk",
        "outputId": "a7f35c0c-72b9-46a2-8d13-fb777bc06e72"
      },
      "execution_count": 4,
      "outputs": [
        {
          "output_type": "stream",
          "name": "stdout",
          "text": [
            "Unique emotion labels: [0 1 2 3 4 5 6 7]\n",
            "Training set size: 734\n",
            "Test set size: 91\n"
          ]
        }
      ]
    },
    {
      "cell_type": "code",
      "source": [
        "model = Sequential()\n",
        "\n",
        "model.add(Conv2D(32, kernel_size=(3, 3), activation='relu', input_shape=(48, 48, 1), kernel_regularizer=l2(0.001)))\n",
        "model.add(MaxPooling2D(pool_size=(2, 2)))\n",
        "model.add(Dropout(0.3))\n",
        "\n",
        "model.add(Conv2D(64, kernel_size=(3, 3), activation='relu', kernel_regularizer=l2(0.001)))\n",
        "model.add(MaxPooling2D(pool_size=(2, 2)))\n",
        "model.add(Dropout(0.3))\n",
        "\n",
        "model.add(Conv2D(128, kernel_size=(3, 3), activation='relu', kernel_regularizer=l2(0.001)))\n",
        "model.add(MaxPooling2D(pool_size=(2, 2)))\n",
        "\n",
        "model.add(Flatten())\n",
        "\n",
        "model.add(Dense(128, activation='relu', kernel_regularizer=l2(0.001)))\n",
        "model.add(Dropout(0.5))\n",
        "\n",
        "model.add(Dense(num_classes, activation='softmax'))\n"
      ],
      "metadata": {
        "id": "V2_3Gutj_eSq"
      },
      "execution_count": 15,
      "outputs": []
    },
    {
      "cell_type": "code",
      "source": [
        "model.compile(optimizer=Adam(learning_rate=0.0001), loss='categorical_crossentropy', metrics=['accuracy'])\n"
      ],
      "metadata": {
        "id": "rn6jcNPh_ePO"
      },
      "execution_count": 17,
      "outputs": []
    },
    {
      "cell_type": "code",
      "source": [
        "batch_size = 32\n",
        "epochs = 75\n",
        "\n",
        "history = model.fit(X_train, y_train, batch_size=batch_size, epochs=epochs, validation_data=(X_test, y_test), verbose=1)\n"
      ],
      "metadata": {
        "id": "qywWjWlT_eNf",
        "colab": {
          "base_uri": "https://localhost:8080/"
        },
        "outputId": "cf2b526b-b170-4681-c0e6-4559b41182b9"
      },
      "execution_count": 19,
      "outputs": [
        {
          "output_type": "stream",
          "name": "stdout",
          "text": [
            "Epoch 1/75\n",
            "23/23 [==============================] - 3s 128ms/step - loss: 1.0124 - accuracy: 0.7575 - val_loss: 1.0862 - val_accuracy: 0.7582\n",
            "Epoch 2/75\n",
            "23/23 [==============================] - 2s 102ms/step - loss: 1.0301 - accuracy: 0.7589 - val_loss: 1.0728 - val_accuracy: 0.7582\n",
            "Epoch 3/75\n",
            "23/23 [==============================] - 2s 105ms/step - loss: 1.0149 - accuracy: 0.7575 - val_loss: 1.0571 - val_accuracy: 0.7802\n",
            "Epoch 4/75\n",
            "23/23 [==============================] - 4s 177ms/step - loss: 1.0093 - accuracy: 0.7657 - val_loss: 1.0602 - val_accuracy: 0.7473\n",
            "Epoch 5/75\n",
            "23/23 [==============================] - 3s 110ms/step - loss: 0.9702 - accuracy: 0.7589 - val_loss: 1.0544 - val_accuracy: 0.7582\n",
            "Epoch 6/75\n",
            "23/23 [==============================] - 2s 103ms/step - loss: 0.9679 - accuracy: 0.7711 - val_loss: 1.0305 - val_accuracy: 0.7802\n",
            "Epoch 7/75\n",
            "23/23 [==============================] - 2s 100ms/step - loss: 0.9336 - accuracy: 0.7793 - val_loss: 1.0238 - val_accuracy: 0.8022\n",
            "Epoch 8/75\n",
            "23/23 [==============================] - 2s 99ms/step - loss: 0.9496 - accuracy: 0.7820 - val_loss: 1.0134 - val_accuracy: 0.7802\n",
            "Epoch 9/75\n",
            "23/23 [==============================] - 3s 148ms/step - loss: 0.9521 - accuracy: 0.7766 - val_loss: 1.0008 - val_accuracy: 0.7802\n",
            "Epoch 10/75\n",
            "23/23 [==============================] - 3s 139ms/step - loss: 0.9157 - accuracy: 0.7956 - val_loss: 0.9862 - val_accuracy: 0.7802\n",
            "Epoch 11/75\n",
            "23/23 [==============================] - 2s 103ms/step - loss: 0.9212 - accuracy: 0.7929 - val_loss: 0.9890 - val_accuracy: 0.7912\n",
            "Epoch 12/75\n",
            "23/23 [==============================] - 2s 101ms/step - loss: 0.9111 - accuracy: 0.7943 - val_loss: 1.0038 - val_accuracy: 0.7802\n",
            "Epoch 13/75\n",
            "23/23 [==============================] - 2s 101ms/step - loss: 0.9072 - accuracy: 0.7984 - val_loss: 0.9580 - val_accuracy: 0.8132\n",
            "Epoch 14/75\n",
            "23/23 [==============================] - 3s 111ms/step - loss: 0.8775 - accuracy: 0.7984 - val_loss: 0.9560 - val_accuracy: 0.8242\n",
            "Epoch 15/75\n",
            "23/23 [==============================] - 4s 191ms/step - loss: 0.8666 - accuracy: 0.8025 - val_loss: 0.9757 - val_accuracy: 0.7912\n",
            "Epoch 16/75\n",
            "23/23 [==============================] - 4s 173ms/step - loss: 0.8662 - accuracy: 0.7943 - val_loss: 0.9457 - val_accuracy: 0.8132\n",
            "Epoch 17/75\n",
            "23/23 [==============================] - 2s 100ms/step - loss: 0.8615 - accuracy: 0.8106 - val_loss: 0.9297 - val_accuracy: 0.8462\n",
            "Epoch 18/75\n",
            "23/23 [==============================] - 2s 104ms/step - loss: 0.8615 - accuracy: 0.8065 - val_loss: 0.9332 - val_accuracy: 0.8132\n",
            "Epoch 19/75\n",
            "23/23 [==============================] - 2s 102ms/step - loss: 0.8312 - accuracy: 0.8079 - val_loss: 0.9459 - val_accuracy: 0.8242\n",
            "Epoch 20/75\n",
            "23/23 [==============================] - 3s 130ms/step - loss: 0.8148 - accuracy: 0.8215 - val_loss: 0.9108 - val_accuracy: 0.8462\n",
            "Epoch 21/75\n",
            "23/23 [==============================] - 4s 158ms/step - loss: 0.8266 - accuracy: 0.8093 - val_loss: 0.9209 - val_accuracy: 0.8352\n",
            "Epoch 22/75\n",
            "23/23 [==============================] - 2s 105ms/step - loss: 0.8078 - accuracy: 0.8106 - val_loss: 0.9457 - val_accuracy: 0.8132\n",
            "Epoch 23/75\n",
            "23/23 [==============================] - 2s 100ms/step - loss: 0.7989 - accuracy: 0.8161 - val_loss: 0.9233 - val_accuracy: 0.8352\n",
            "Epoch 24/75\n",
            "23/23 [==============================] - 2s 102ms/step - loss: 0.7862 - accuracy: 0.8256 - val_loss: 0.9048 - val_accuracy: 0.8352\n",
            "Epoch 25/75\n",
            "23/23 [==============================] - 2s 102ms/step - loss: 0.7805 - accuracy: 0.8188 - val_loss: 0.9291 - val_accuracy: 0.8242\n",
            "Epoch 26/75\n",
            "23/23 [==============================] - 4s 174ms/step - loss: 0.8138 - accuracy: 0.8365 - val_loss: 0.8853 - val_accuracy: 0.8352\n",
            "Epoch 27/75\n",
            "23/23 [==============================] - 3s 112ms/step - loss: 0.7920 - accuracy: 0.8365 - val_loss: 0.9171 - val_accuracy: 0.8352\n",
            "Epoch 28/75\n",
            "23/23 [==============================] - 2s 101ms/step - loss: 0.8032 - accuracy: 0.8188 - val_loss: 0.9183 - val_accuracy: 0.8242\n",
            "Epoch 29/75\n",
            "23/23 [==============================] - 2s 100ms/step - loss: 0.7663 - accuracy: 0.8311 - val_loss: 0.9063 - val_accuracy: 0.8132\n",
            "Epoch 30/75\n",
            "23/23 [==============================] - 2s 102ms/step - loss: 0.7594 - accuracy: 0.8297 - val_loss: 0.9286 - val_accuracy: 0.8132\n",
            "Epoch 31/75\n",
            "23/23 [==============================] - 3s 147ms/step - loss: 0.8034 - accuracy: 0.8270 - val_loss: 0.8901 - val_accuracy: 0.8352\n",
            "Epoch 32/75\n",
            "23/23 [==============================] - 3s 145ms/step - loss: 0.7510 - accuracy: 0.8256 - val_loss: 0.8717 - val_accuracy: 0.8462\n",
            "Epoch 33/75\n",
            "23/23 [==============================] - 2s 101ms/step - loss: 0.7553 - accuracy: 0.8243 - val_loss: 0.8970 - val_accuracy: 0.8352\n",
            "Epoch 34/75\n",
            "23/23 [==============================] - 2s 105ms/step - loss: 0.7563 - accuracy: 0.8324 - val_loss: 0.8980 - val_accuracy: 0.8462\n",
            "Epoch 35/75\n",
            "23/23 [==============================] - 2s 105ms/step - loss: 0.7485 - accuracy: 0.8379 - val_loss: 0.8868 - val_accuracy: 0.8462\n",
            "Epoch 36/75\n",
            "23/23 [==============================] - 3s 119ms/step - loss: 0.7526 - accuracy: 0.8297 - val_loss: 0.8812 - val_accuracy: 0.8352\n",
            "Epoch 37/75\n",
            "23/23 [==============================] - 4s 174ms/step - loss: 0.7396 - accuracy: 0.8379 - val_loss: 0.8724 - val_accuracy: 0.8571\n",
            "Epoch 38/75\n",
            "23/23 [==============================] - 2s 106ms/step - loss: 0.7290 - accuracy: 0.8297 - val_loss: 0.9039 - val_accuracy: 0.8352\n",
            "Epoch 39/75\n",
            "23/23 [==============================] - 2s 102ms/step - loss: 0.7285 - accuracy: 0.8433 - val_loss: 0.8823 - val_accuracy: 0.8462\n",
            "Epoch 40/75\n",
            "23/23 [==============================] - 2s 102ms/step - loss: 0.6988 - accuracy: 0.8433 - val_loss: 0.8797 - val_accuracy: 0.8462\n",
            "Epoch 41/75\n",
            "23/23 [==============================] - 2s 101ms/step - loss: 0.7250 - accuracy: 0.8488 - val_loss: 0.9265 - val_accuracy: 0.8242\n",
            "Epoch 42/75\n",
            "23/23 [==============================] - 4s 173ms/step - loss: 0.6885 - accuracy: 0.8474 - val_loss: 0.8859 - val_accuracy: 0.8462\n",
            "Epoch 43/75\n",
            "23/23 [==============================] - 4s 191ms/step - loss: 0.7177 - accuracy: 0.8474 - val_loss: 0.8635 - val_accuracy: 0.8571\n",
            "Epoch 44/75\n",
            "23/23 [==============================] - 3s 124ms/step - loss: 0.7026 - accuracy: 0.8529 - val_loss: 0.8484 - val_accuracy: 0.8571\n",
            "Epoch 45/75\n",
            "23/23 [==============================] - 2s 101ms/step - loss: 0.6939 - accuracy: 0.8501 - val_loss: 0.8380 - val_accuracy: 0.8571\n",
            "Epoch 46/75\n",
            "23/23 [==============================] - 2s 106ms/step - loss: 0.6786 - accuracy: 0.8569 - val_loss: 0.8664 - val_accuracy: 0.8571\n",
            "Epoch 47/75\n",
            "23/23 [==============================] - 3s 117ms/step - loss: 0.6796 - accuracy: 0.8583 - val_loss: 0.8627 - val_accuracy: 0.8571\n",
            "Epoch 48/75\n",
            "23/23 [==============================] - 4s 179ms/step - loss: 0.6815 - accuracy: 0.8392 - val_loss: 0.8495 - val_accuracy: 0.8571\n",
            "Epoch 49/75\n",
            "23/23 [==============================] - 2s 108ms/step - loss: 0.6979 - accuracy: 0.8406 - val_loss: 0.8512 - val_accuracy: 0.8571\n",
            "Epoch 50/75\n",
            "23/23 [==============================] - 2s 101ms/step - loss: 0.6926 - accuracy: 0.8474 - val_loss: 0.8491 - val_accuracy: 0.8681\n",
            "Epoch 51/75\n",
            "23/23 [==============================] - 2s 104ms/step - loss: 0.6544 - accuracy: 0.8597 - val_loss: 0.8470 - val_accuracy: 0.8571\n",
            "Epoch 52/75\n",
            "23/23 [==============================] - 2s 106ms/step - loss: 0.6613 - accuracy: 0.8624 - val_loss: 0.8434 - val_accuracy: 0.8571\n",
            "Epoch 53/75\n",
            "23/23 [==============================] - 4s 164ms/step - loss: 0.6896 - accuracy: 0.8474 - val_loss: 0.8729 - val_accuracy: 0.8571\n",
            "Epoch 54/75\n",
            "23/23 [==============================] - 3s 129ms/step - loss: 0.6713 - accuracy: 0.8542 - val_loss: 0.8615 - val_accuracy: 0.8571\n",
            "Epoch 55/75\n",
            "23/23 [==============================] - 2s 101ms/step - loss: 0.6633 - accuracy: 0.8556 - val_loss: 0.8254 - val_accuracy: 0.8681\n",
            "Epoch 56/75\n",
            "23/23 [==============================] - 2s 105ms/step - loss: 0.6651 - accuracy: 0.8638 - val_loss: 0.8547 - val_accuracy: 0.8571\n",
            "Epoch 57/75\n",
            "23/23 [==============================] - 2s 105ms/step - loss: 0.6667 - accuracy: 0.8583 - val_loss: 0.8588 - val_accuracy: 0.8571\n",
            "Epoch 58/75\n",
            "23/23 [==============================] - 3s 134ms/step - loss: 0.6552 - accuracy: 0.8542 - val_loss: 0.8576 - val_accuracy: 0.8571\n",
            "Epoch 59/75\n",
            "23/23 [==============================] - 4s 158ms/step - loss: 0.6313 - accuracy: 0.8706 - val_loss: 0.8422 - val_accuracy: 0.8681\n",
            "Epoch 60/75\n",
            "23/23 [==============================] - 2s 102ms/step - loss: 0.6517 - accuracy: 0.8610 - val_loss: 0.8911 - val_accuracy: 0.8571\n",
            "Epoch 61/75\n",
            "23/23 [==============================] - 2s 102ms/step - loss: 0.6566 - accuracy: 0.8597 - val_loss: 0.8323 - val_accuracy: 0.8681\n",
            "Epoch 62/75\n",
            "23/23 [==============================] - 2s 101ms/step - loss: 0.6326 - accuracy: 0.8624 - val_loss: 0.8314 - val_accuracy: 0.8681\n",
            "Epoch 63/75\n",
            "23/23 [==============================] - 2s 107ms/step - loss: 0.6365 - accuracy: 0.8597 - val_loss: 0.8127 - val_accuracy: 0.8681\n",
            "Epoch 64/75\n",
            "23/23 [==============================] - 4s 175ms/step - loss: 0.6129 - accuracy: 0.8624 - val_loss: 0.8500 - val_accuracy: 0.8681\n",
            "Epoch 65/75\n",
            "23/23 [==============================] - 2s 105ms/step - loss: 0.6110 - accuracy: 0.8692 - val_loss: 0.8087 - val_accuracy: 0.8681\n",
            "Epoch 66/75\n",
            "23/23 [==============================] - 2s 102ms/step - loss: 0.6261 - accuracy: 0.8706 - val_loss: 0.8505 - val_accuracy: 0.8571\n",
            "Epoch 67/75\n",
            "23/23 [==============================] - 2s 105ms/step - loss: 0.6135 - accuracy: 0.8665 - val_loss: 0.8273 - val_accuracy: 0.8681\n",
            "Epoch 68/75\n",
            "23/23 [==============================] - 2s 101ms/step - loss: 0.6212 - accuracy: 0.8651 - val_loss: 0.8302 - val_accuracy: 0.8681\n",
            "Epoch 69/75\n",
            "23/23 [==============================] - 3s 154ms/step - loss: 0.6037 - accuracy: 0.8719 - val_loss: 0.8338 - val_accuracy: 0.8681\n",
            "Epoch 70/75\n",
            "23/23 [==============================] - 3s 139ms/step - loss: 0.5915 - accuracy: 0.8692 - val_loss: 0.8157 - val_accuracy: 0.8681\n",
            "Epoch 71/75\n",
            "23/23 [==============================] - 2s 105ms/step - loss: 0.5782 - accuracy: 0.8692 - val_loss: 0.8125 - val_accuracy: 0.8681\n",
            "Epoch 72/75\n",
            "23/23 [==============================] - 2s 105ms/step - loss: 0.6245 - accuracy: 0.8624 - val_loss: 0.8110 - val_accuracy: 0.8681\n",
            "Epoch 73/75\n",
            "23/23 [==============================] - 2s 104ms/step - loss: 0.6057 - accuracy: 0.8692 - val_loss: 0.8057 - val_accuracy: 0.8681\n",
            "Epoch 74/75\n",
            "23/23 [==============================] - 3s 122ms/step - loss: 0.5946 - accuracy: 0.8760 - val_loss: 0.7999 - val_accuracy: 0.8571\n",
            "Epoch 75/75\n",
            "23/23 [==============================] - 4s 169ms/step - loss: 0.5833 - accuracy: 0.8651 - val_loss: 0.8129 - val_accuracy: 0.8681\n"
          ]
        }
      ]
    },
    {
      "cell_type": "code",
      "source": [
        "score = model.evaluate(X_test, y_test, verbose=0)\n",
        "print(f'Test loss: {score[0]}')\n",
        "print(f'Test accuracy: {score[1]}')\n"
      ],
      "metadata": {
        "id": "MkkjL6tc_eKg",
        "colab": {
          "base_uri": "https://localhost:8080/"
        },
        "outputId": "e760827f-c816-4bdc-f8ad-ab773a378b7d"
      },
      "execution_count": 20,
      "outputs": [
        {
          "output_type": "stream",
          "name": "stdout",
          "text": [
            "Test loss: 0.8128833174705505\n",
            "Test accuracy: 0.8681318759918213\n"
          ]
        }
      ]
    }
  ]
}